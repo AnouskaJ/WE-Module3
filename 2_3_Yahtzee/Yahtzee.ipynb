{
  "nbformat": 4,
  "nbformat_minor": 0,
  "metadata": {
    "colab": {
      "provenance": []
    },
    "kernelspec": {
      "name": "python3",
      "display_name": "Python 3"
    },
    "language_info": {
      "name": "python"
    }
  },
  "cells": [
    {
      "cell_type": "code",
      "execution_count": 2,
      "metadata": {
        "colab": {
          "base_uri": "https://localhost:8080/"
        },
        "id": "s-q0ZQqcq_d3",
        "outputId": "9d33afd3-d964-4b46-eafa-c0c61285cc16"
      },
      "outputs": [
        {
          "output_type": "stream",
          "name": "stdout",
          "text": [
            "Dice roll: [1, 5, 6, 5, 6]\n"
          ]
        }
      ],
      "source": [
        "import random\n",
        "\n",
        "def roll_dice(num_dice):\n",
        "    return [random.randint(1, 6) for _ in range(num_dice)]\n",
        "\n",
        "# Example usage\n",
        "num_dice = 5\n",
        "dice_roll = roll_dice(num_dice)\n",
        "print(\"Dice roll:\", dice_roll)\n"
      ]
    },
    {
      "cell_type": "code",
      "source": [
        "def score_dice(dice, category):\n",
        "    if category == \"Ones\":\n",
        "        return sum(d for d in dice if d == 1)\n",
        "    elif category == \"Twos\":\n",
        "        return sum(d for d in dice if d == 2)\n",
        "    elif category == \"Threes\":\n",
        "        return sum(d for d in dice if d == 3)\n",
        "    # Add more categories as needed\n",
        "    else:\n",
        "        return 0  # Default case, return 0 if category not recognized\n",
        "\n",
        "# Example usage\n",
        "dice_roll = [1, 2, 3, 4, 5]  # Example dice roll\n",
        "category = \"Ones\"  # Example category\n",
        "score = score_dice(dice_roll, category)\n",
        "print(f\"Score for {category}: {score}\")\n"
      ],
      "metadata": {
        "colab": {
          "base_uri": "https://localhost:8080/"
        },
        "id": "XEBNIdUOz-An",
        "outputId": "dcf49f13-5521-4f23-95da-986720e11425"
      },
      "execution_count": 3,
      "outputs": [
        {
          "output_type": "stream",
          "name": "stdout",
          "text": [
            "Score for Ones: 1\n"
          ]
        }
      ]
    },
    {
      "cell_type": "code",
      "source": [
        "def choose_category(scorecard):\n",
        "    print(\"Available categories:\")\n",
        "    for category, score in scorecard.items():\n",
        "        if score is None:\n",
        "            print(\"-\", category)\n",
        "\n",
        "    while True:\n",
        "        category = input(\"Choose a category: \")\n",
        "        if category in scorecard and scorecard[category] is None:\n",
        "            return category\n",
        "        else:\n",
        "            print(\"Invalid category. Please choose from the available categories.\")\n",
        "\n",
        "# Example usage\n",
        "scorecard = {\n",
        "    \"Ones\": None,\n",
        "    \"Twos\": None,\n",
        "    \"Threes\": None,\n",
        "    # Add more categories as needed\n",
        "}\n",
        "chosen_category = choose_category(scorecard)\n",
        "print(\"Chosen category:\", chosen_category)\n"
      ],
      "metadata": {
        "colab": {
          "base_uri": "https://localhost:8080/"
        },
        "id": "I6p0rL8Pz-k9",
        "outputId": "7bca284e-51be-4905-b919-9408a0db363a"
      },
      "execution_count": 4,
      "outputs": [
        {
          "output_type": "stream",
          "name": "stdout",
          "text": [
            "Available categories:\n",
            "- Ones\n",
            "- Twos\n",
            "- Threes\n",
            "Choose a category: Twos\n",
            "Chosen category: Twos\n"
          ]
        }
      ]
    },
    {
      "cell_type": "code",
      "source": [
        "def display_scorecard(scorecard):\n",
        "    print(\"\\nScorecard:\")\n",
        "    for category, score in scorecard.items():\n",
        "        if score is not None:\n",
        "            print(f\"{category}: {score}\")\n",
        "        else:\n",
        "            print(f\"{category}: -\")\n",
        "\n",
        "# Example usage\n",
        "scorecard = {\n",
        "    \"Ones\": 3,\n",
        "    \"Twos\": None,\n",
        "    \"Threes\": 9,\n",
        "    # Add more categories as needed\n",
        "}\n",
        "display_scorecard(scorecard)\n"
      ],
      "metadata": {
        "colab": {
          "base_uri": "https://localhost:8080/"
        },
        "id": "wox9_ioL0Aeh",
        "outputId": "20276e94-728d-48f5-e7d9-71c1ab6d486b"
      },
      "execution_count": 5,
      "outputs": [
        {
          "output_type": "stream",
          "name": "stdout",
          "text": [
            "\n",
            "Scorecard:\n",
            "Ones: 3\n",
            "Twos: -\n",
            "Threes: 9\n"
          ]
        }
      ]
    },
    {
      "cell_type": "code",
      "source": [
        "def check_end_game(scorecard):\n",
        "    return all(score is not None for score in scorecard.values())\n",
        "\n",
        "# Example usage\n",
        "scorecard = {\n",
        "    \"Ones\": 3,\n",
        "    \"Twos\": 6,\n",
        "    \"Threes\": 9,\n",
        "    # Add more categories as needed\n",
        "}\n",
        "game_over = check_end_game(scorecard)\n",
        "print(\"Game over:\", game_over)\n"
      ],
      "metadata": {
        "colab": {
          "base_uri": "https://localhost:8080/"
        },
        "id": "MzIJiUxV0Dd7",
        "outputId": "b3c0b73c-b80c-4826-9ce7-c77252f4c2af"
      },
      "execution_count": 6,
      "outputs": [
        {
          "output_type": "stream",
          "name": "stdout",
          "text": [
            "Game over: True\n"
          ]
        }
      ]
    },
    {
      "cell_type": "code",
      "source": [
        "def play_game():\n",
        "    scorecard = {\n",
        "        \"Ones\": None,\n",
        "        \"Twos\": None,\n",
        "        \"Threes\": None,\n",
        "        # Add more categories as needed\n",
        "    }\n",
        "\n",
        "    while not check_end_game(scorecard):\n",
        "        print(\"\\nNew turn!\")\n",
        "        input(\"Press Enter to roll the dice...\")\n",
        "\n",
        "        dice_roll = roll_dice(5)\n",
        "        print(\"Dice roll:\", dice_roll)\n",
        "\n",
        "        category = choose_category(scorecard)\n",
        "        score = score_dice(dice_roll, category)\n",
        "        scorecard[category] = score\n",
        "\n",
        "        print(f\"Score for {category}: {score}\")\n",
        "        display_scorecard(scorecard)\n",
        "\n",
        "    print(\"\\nGame over! Final score:\")\n",
        "    display_scorecard(scorecard)\n",
        "\n",
        "# Example usage\n",
        "if __name__ == \"__main__\":\n",
        "    play_game()\n"
      ],
      "metadata": {
        "colab": {
          "base_uri": "https://localhost:8080/"
        },
        "id": "C1oOzNTX0HyC",
        "outputId": "31ab76f7-81b1-443a-afa4-9e52855a6c78"
      },
      "execution_count": 7,
      "outputs": [
        {
          "output_type": "stream",
          "name": "stdout",
          "text": [
            "\n",
            "New turn!\n",
            "Press Enter to roll the dice...\n",
            "Dice roll: [2, 1, 4, 2, 2]\n",
            "Available categories:\n",
            "- Ones\n",
            "- Twos\n",
            "- Threes\n",
            "Choose a category: Ones\n",
            "Score for Ones: 1\n",
            "\n",
            "Scorecard:\n",
            "Ones: 1\n",
            "Twos: -\n",
            "Threes: -\n",
            "\n",
            "New turn!\n",
            "Press Enter to roll the dice...\n",
            "Dice roll: [6, 2, 1, 2, 1]\n",
            "Available categories:\n",
            "- Twos\n",
            "- Threes\n",
            "Choose a category: Threes\n",
            "Score for Threes: 0\n",
            "\n",
            "Scorecard:\n",
            "Ones: 1\n",
            "Twos: -\n",
            "Threes: 0\n",
            "\n",
            "New turn!\n",
            "Press Enter to roll the dice...\n",
            "Dice roll: [6, 6, 1, 6, 5]\n",
            "Available categories:\n",
            "- Twos\n",
            "Choose a category: Twos\n",
            "Score for Twos: 0\n",
            "\n",
            "Scorecard:\n",
            "Ones: 1\n",
            "Twos: 0\n",
            "Threes: 0\n",
            "\n",
            "Game over! Final score:\n",
            "\n",
            "Scorecard:\n",
            "Ones: 1\n",
            "Twos: 0\n",
            "Threes: 0\n"
          ]
        }
      ]
    }
  ]
}