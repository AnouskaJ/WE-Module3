{
  "nbformat": 4,
  "nbformat_minor": 0,
  "metadata": {
    "colab": {
      "provenance": []
    },
    "kernelspec": {
      "name": "python3",
      "display_name": "Python 3"
    },
    "language_info": {
      "name": "python"
    }
  },
  "cells": [
    {
      "cell_type": "code",
      "execution_count": 3,
      "metadata": {
        "id": "gbtFRf33rOai"
      },
      "outputs": [],
      "source": [
        "from collections import defaultdict\n",
        "import random\n",
        "\n",
        "def generate(text: str, start_words: list[str], chain_length: int, num_generated: int) -> str:\n",
        "    # Split the input text into words\n",
        "    text_words = text.split()\n",
        "\n",
        "    # Build Markov chain\n",
        "    markov_chain = defaultdict(list)\n",
        "    for i in range(len(text_words) - chain_length):\n",
        "        key = tuple(text_words[i:i + chain_length])\n",
        "        value = text_words[i + chain_length]\n",
        "        markov_chain[key].append(value)\n",
        "\n",
        "    # Generate sentence\n",
        "    current_words = start_words.copy()\n",
        "    generated_sentence = ' '.join(current_words)\n",
        "    for _ in range(num_generated):\n",
        "        key = tuple(current_words)\n",
        "        if key in markov_chain:\n",
        "            next_word = random.choice(markov_chain[key])\n",
        "            generated_sentence += ' ' + next_word\n",
        "            current_words = current_words[1:] + [next_word]\n",
        "        else:\n",
        "            break\n",
        "\n",
        "    return generated_sentence\n",
        "\n"
      ]
    },
    {
      "cell_type": "code",
      "source": [
        "# Sample test case 1\n",
        "input_text = \"The quick brown fox jumps over the lazy dog\"\n",
        "start_words = ['quick', 'brown']\n",
        "chain_length = 1\n",
        "num_generated = 5\n",
        "output_sentence = generate(input_text, start_words, chain_length, num_generated)\n",
        "print(output_sentence)"
      ],
      "metadata": {
        "colab": {
          "base_uri": "https://localhost:8080/"
        },
        "id": "si6n3AOq5Har",
        "outputId": "7349cdd1-cd98-4179-b3ef-10fc36b3d40b"
      },
      "execution_count": 4,
      "outputs": [
        {
          "output_type": "stream",
          "name": "stdout",
          "text": [
            "quick brown\n"
          ]
        }
      ]
    },
    {
      "cell_type": "code",
      "source": [
        "# Sample test case 2\n",
        "input_text = \"I love Python programming\"\n",
        "start_words = ['love', 'Python']\n",
        "chain_length = 2\n",
        "num_generated = 4\n",
        "output_sentence = generate(input_text, start_words, chain_length, num_generated)\n",
        "print(output_sentence)\n"
      ],
      "metadata": {
        "colab": {
          "base_uri": "https://localhost:8080/"
        },
        "id": "ev1-G1se44gS",
        "outputId": "4657bbb5-024f-494c-9db9-e58b482664d9"
      },
      "execution_count": 5,
      "outputs": [
        {
          "output_type": "stream",
          "name": "stdout",
          "text": [
            "love Python programming\n"
          ]
        }
      ]
    },
    {
      "cell_type": "code",
      "source": [
        "# Sample test case 3\n",
        "input_text = \"To be or not to be, that is the question\"\n",
        "start_words = ['be', 'or']\n",
        "chain_length = 2\n",
        "num_generated = 6\n",
        "output_sentence = generate(input_text, start_words, chain_length, num_generated)\n",
        "print(output_sentence)"
      ],
      "metadata": {
        "colab": {
          "base_uri": "https://localhost:8080/"
        },
        "id": "_aRJAGm15QqE",
        "outputId": "4c7c7836-441f-4b96-fb04-0c15ada12d8d"
      },
      "execution_count": 6,
      "outputs": [
        {
          "output_type": "stream",
          "name": "stdout",
          "text": [
            "be or not to be, that is the\n"
          ]
        }
      ]
    },
    {
      "cell_type": "code",
      "source": [
        "# Sample test case 4\n",
        "input_text = \"This is a test sentence for the Markov chain generator\"\n",
        "start_words = ['is', 'a']\n",
        "chain_length = 3\n",
        "num_generated = 7\n",
        "output_sentence = generate(input_text, start_words, chain_length, num_generated)\n",
        "print(output_sentence)"
      ],
      "metadata": {
        "colab": {
          "base_uri": "https://localhost:8080/"
        },
        "id": "v0i_VDO25WRZ",
        "outputId": "5a23b038-fa91-45ae-bb12-6cf1f691fa45"
      },
      "execution_count": 7,
      "outputs": [
        {
          "output_type": "stream",
          "name": "stdout",
          "text": [
            "is a\n"
          ]
        }
      ]
    }
  ]
}