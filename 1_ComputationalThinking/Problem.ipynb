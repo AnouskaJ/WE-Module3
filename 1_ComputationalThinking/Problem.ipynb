{
 "cells": [
  {
   "cell_type": "code",
   "execution_count": 1,
   "metadata": {},
   "outputs": [
    {
     "name": "stdout",
     "output_type": "stream",
     "text": [
      "['1', '2', 'Fizz', '4', 'Buzz', 'Fizz', '7', '8', 'Fizz', 'Buzz', '11', 'Fizz', '13', '14', 'FizzBuzz', '16', '17', 'Fizz', '19', 'Buzz']\n"
     ]
    }
   ],
   "source": [
    "from typing import List\n",
    "\n",
    "def fizz_buzz(n: int) -> List[str]:\n",
    "    \"\"\"\n",
    "    Returns a list of strings representing the FizzBuzz sequence from 1 to n.\n",
    "\n",
    "    Args:\n",
    "        n (int): The number up to which to generate the FizzBuzz sequence.\n",
    "\n",
    "    Returns:\n",
    "        List[str]: A list of strings representing the FizzBuzz sequence.\n",
    "    \"\"\"\n",
    "    return [\n",
    "        \"Fizz\" * (i % 3 == 0) + \"Buzz\" * (i % 5 == 0) or str(i)\n",
    "        for i in range(1, n + 1)\n",
    "    ]\n",
    "\n",
    "# Test the function with numbers from 1 to 20\n",
    "print(fizz_buzz(20))\n"
   ]
  }
 ],
 "metadata": {
  "kernelspec": {
   "display_name": "Python 3",
   "language": "python",
   "name": "python3"
  },
  "language_info": {
   "codemirror_mode": {
    "name": "ipython",
    "version": 3
   },
   "file_extension": ".py",
   "mimetype": "text/x-python",
   "name": "python",
   "nbconvert_exporter": "python",
   "pygments_lexer": "ipython3",
   "version": "3.11.6"
  }
 },
 "nbformat": 4,
 "nbformat_minor": 2
}
